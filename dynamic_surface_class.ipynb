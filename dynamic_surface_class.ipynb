{
 "cells": [
  {
   "cell_type": "markdown",
   "metadata": {
    "ExecuteTime": {
     "end_time": "2021-07-16T19:52:51.921364Z",
     "start_time": "2021-07-16T19:52:51.918093Z"
    }
   },
   "source": [
    "# Plan\n",
    "\n",
    "* [x] Learn Git stuff\n",
    "* [x] Create local Git repository at EPOM and repo at GitHub\n",
    "* [ ] Refresh memory about Python\n",
    "* [ ] Learn MATLAB language at enough level to be able convert the code\n",
    "* [ ] Convert `RegGrid3D.m` to `reg_grid_3d.py`\n",
    "* [ ] Convert `importfileXYZ.m` to `import_xyz.py`\n",
    "* [ ] Test\n",
    "* [ ] Re-Implement stuff\n",
    "* [ ] Test\n",
    "* [ ] Test\n",
    "* [ ] Test\n",
    "\n",
    "**Other**\n",
    "* [ ] Python paths handling\n",
    "* [ ] Python linked list concept\n",
    "* [ ] Something"
   ]
  },
  {
   "cell_type": "markdown",
   "metadata": {},
   "source": [
    "## Searching path to file with extension "
   ]
  },
  {
   "cell_type": "code",
   "execution_count": 1,
   "metadata": {
    "ExecuteTime": {
     "end_time": "2021-07-19T01:45:52.512335Z",
     "start_time": "2021-07-19T01:45:52.490095Z"
    }
   },
   "outputs": [
    {
     "name": "stdout",
     "output_type": "stream",
     "text": [
      "Searching *.m files in directory:/home/jupyter-idudkov/IDudkov_Internship/dynamic_surface_class\n",
      "\n",
      "0. RegGrid3D.m\n",
      "1. Testgrid.m\n",
      "2. importfileXYZ.m\n",
      "\n",
      "\n",
      "['/home/jupyter-idudkov/IDudkov_Internship/dynamic_surface_class/f02_matlab_code/RegGrid3D.m', '/home/jupyter-idudkov/IDudkov_Internship/dynamic_surface_class/f02_matlab_code/Testgrid.m', '/home/jupyter-idudkov/IDudkov_Internship/dynamic_surface_class/f02_matlab_code/importfileXYZ.m']\n"
     ]
    }
   ],
   "source": [
    "# Define a function that searches for files with defined extension \n",
    "# and returns a list of full paths for these files\n",
    "import os\n",
    "\n",
    "def find_file_with_extension(extension, path=os.getcwd()):\n",
    "        # Check the top path existence\n",
    "    if os.path.exists(path):\n",
    "        print(('Searching *%s files in directory:' + path + '\\n') % extension)\n",
    "    else:  # Raise a meaningful error\n",
    "        raise RuntimeError('Path either not exists or not correct ' + path)\n",
    "    \n",
    "    \n",
    "    paths = []\n",
    "    count = 0\n",
    "    for dirpath, dirnames, filenames in os.walk(path):\n",
    "        for filename in filenames:\n",
    "            fextension = os.path.splitext(filename)[1]\n",
    "            if fextension == extension:\n",
    "                paths.append(os.path.abspath(os.path.join(dirpath, filename)))\n",
    "                print(\"%d. %s\" % (count, filename))\n",
    "                count += 1\n",
    "    print(\"\\n\")\n",
    "    return paths\n",
    "\n",
    "# Test\n",
    "test_paths = find_file_with_extension('.m')\n",
    "print(test_paths)"
   ]
  },
  {
   "cell_type": "markdown",
   "metadata": {},
   "source": [
    "## XYZ file reading"
   ]
  },
  {
   "cell_type": "code",
   "execution_count": 4,
   "metadata": {
    "ExecuteTime": {
     "end_time": "2021-07-19T01:49:03.458662Z",
     "start_time": "2021-07-19T01:49:03.436987Z"
    }
   },
   "outputs": [],
   "source": [
    "import os.path\n",
    "import numpy as np\n",
    "\n",
    "# Define a function that read XYZ files \n",
    "# and returns a numpy array\n",
    "\n",
    "# Realization 1. Probably well optimized but it crashes EPOM kernel\n",
    "def read_xyz_file_r1(xyz_filepath, startRow=0, endRow=None, \n",
    "                  header_length=0, separator=' '):\n",
    "            # Check the file existence\n",
    "    if os.path.exists(xyz_filepath):\n",
    "        print(('Reading file: %s\\n') % xyz_filepath)\n",
    "    else:   # Raise a meaningful error\n",
    "        raise RuntimeError('File is not exist or path is not correct')\n",
    "    if endRow != None:\n",
    "        xyz_array = np.genfromtxt(xyz_filepath, delimiter=separator, skip_header=header_length,\n",
    "                                 missing_values=None, max_rows=(endRow-startRow))\n",
    "    else:\n",
    "        xyz_array = np.genfromtxt(xyz_filepath, delimiter=separator, skip_header=header_length,\n",
    "                         missing_values=None, max_rows=endRow)\n",
    "    return xyz_array\n",
    "        \n",
    "    \n",
    "    # Realization 2. Probably, the best realization. \n",
    "    # It takes the least amount of memory and works well, but doesn't have some important features \n",
    "    # It doesn't crashing EPOM kernel\n",
    "def read_xyz_file_r2(xyz_filepath, header_length=0, separator=' '):\n",
    "            # Check the file existence\n",
    "    if os.path.exists(xyz_filepath):\n",
    "        print(('Reading file: %s\\n') % xyz_filepath)\n",
    "    else:   # Raise a meaningful error\n",
    "        raise RuntimeError('File is not exist or path is not correct')\n",
    "        \n",
    "    header = list()\n",
    "    x_list = list()\n",
    "    y_list = list()\n",
    "    z_list = list()\n",
    "    \n",
    "    count = 0\n",
    "    \n",
    "    with open(xyz_filepath, 'r') as xyz_file:\n",
    "        for index, line in enumerate(xyz_file):\n",
    "            if index in range(header_length):\n",
    "                x, y, z = line.split(separator)\n",
    "                header.append(x)\n",
    "                header.append(y)\n",
    "                header.append(z)\n",
    "                \n",
    "                count += 1\n",
    "            else:\n",
    "                x, y, z = line.split(separator)\n",
    "\n",
    "                x_list.append(round(float(x), 3))\n",
    "                y_list.append(round(float(y), 3))\n",
    "                z_list.append(round(float(z), 3))\n",
    "                count += 1\n",
    "    print(\"Number of Rows: %d\" % count)\n",
    "    xyz_array = np.array([x_list, y_list, z_list])\n",
    "    return xyz_array\n",
    "\n",
    "\n",
    "\n",
    "    # Realization 3. The easiest and the most expensive one\n",
    "def read_xyz_file_r3(xyz_filepath, startRow=0, endRow=None, \n",
    "                  header_length=0, separator=' '):\n",
    "            # Check the file existence\n",
    "    if os.path.exists(xyz_filepath):\n",
    "        print(('Reading file: %s\\n') % xyz_filepath)\n",
    "    else:   # Raise a meaningful error\n",
    "        raise RuntimeError('File is not exist or path is not correct')        \n",
    "        # Header reading\n",
    "        for header_line in xyz_file[startRow: startRow+header_length]:\n",
    "            header.append(header_line.split(fseparator))\n",
    "        print(xyz_file)\n",
    "        # Data reading\n",
    "        for xyz_line in xyz_file:\n",
    "            xyz = xyz_line.split(fseparator)\n",
    "            x.append(round(float(xyz[0]), 3))\n",
    "            y.append(round(float(xyz[1]), 3))\n",
    "            z.append(round(float(xyz[2]), 3))\n",
    "            \n",
    "    # Open, read and close the file\n",
    "    xyz_file = open(xyz_filepath, 'r')\n",
    "    xyz_file_content = xyz_file.read()\n",
    "    xyz_file.close\n",
    "    \n",
    "    xyz_lines = xyz_file_content.splitlines()\n",
    "    count = 1\n",
    "    \n",
    "    header = list()\n",
    "    x = list()\n",
    "    y = list()\n",
    "    z = list()\n",
    "    \n",
    "    # Header reading\n",
    "    for header_line in xyz_lines[startRow: startRow+header_length]:\n",
    "        header.append(header_line.split(fseparator))\n",
    "        count += 1\n",
    "    # Data reading\n",
    "    for xyz_line in xyz_lines[startRow+header_length: endRow]:\n",
    "        xyz = xyz_line.split(fseparator)\n",
    "        x.append(round(float(xyz[0]), 3))\n",
    "        y.append(round(float(xyz[1]), 3))\n",
    "        z.append(round(float(xyz[2]), 3))\n",
    "        count += 1\n",
    "    print(\"%d rows were read\" % count)\n",
    "    xyz_array = np.array([x, y, z])\n",
    "    \n",
    "    return header, xyz_array"
   ]
  },
  {
   "cell_type": "code",
   "execution_count": 3,
   "metadata": {
    "ExecuteTime": {
     "end_time": "2021-07-19T01:46:49.068933Z",
     "start_time": "2021-07-19T01:46:06.817409Z"
    }
   },
   "outputs": [
    {
     "name": "stdout",
     "output_type": "stream",
     "text": [
      "Searching *.xyz files in directory:/home/jupyter-idudkov/IDudkov_Internship/dynamic_surface_class\n",
      "\n",
      "0. SH2017_MainSurveyLines_1m_CUBE_NOAA.xyz\n",
      "1. depth.xyz\n",
      "\n",
      "\n",
      "Reading file: /home/jupyter-idudkov/IDudkov_Internship/dynamic_surface_class/f01_data/SH2017_MainSurveyLines_1m_CUBE_NOAA.xyz\n",
      "\n",
      "Number of Rows: 10263471\n",
      "[[ 3.6760350e+05  3.6760450e+05  3.6760550e+05 ...  3.6924750e+05\n",
      "   3.6924850e+05  3.6923750e+05]\n",
      " [ 4.7691565e+06  4.7691565e+06  4.7691565e+06 ...  4.7753925e+06\n",
      "   4.7753925e+06  4.7753935e+06]\n",
      " [-2.8000000e+01 -2.8050000e+01 -2.8150000e+01 ... -2.3990000e+01\n",
      "  -2.4050000e+01 -2.4030000e+01]]\n",
      "(3, 10263470)\n"
     ]
    }
   ],
   "source": [
    "# Test\n",
    "xyz_paths = find_file_with_extension('.xyz')\n",
    "xyz_array = read_xyz_file_r2(xyz_paths[0], separator=',',header_length=1)\n",
    "print(xyz_array)\n",
    "print(np.shape(xyz_array))"
   ]
  },
  {
   "cell_type": "code",
   "execution_count": null,
   "metadata": {},
   "outputs": [],
   "source": []
  },
  {
   "cell_type": "code",
   "execution_count": null,
   "metadata": {},
   "outputs": [],
   "source": []
  },
  {
   "cell_type": "code",
   "execution_count": null,
   "metadata": {},
   "outputs": [],
   "source": []
  },
  {
   "cell_type": "code",
   "execution_count": null,
   "metadata": {},
   "outputs": [],
   "source": []
  },
  {
   "cell_type": "code",
   "execution_count": null,
   "metadata": {},
   "outputs": [],
   "source": []
  }
 ],
 "metadata": {
  "kernelspec": {
   "display_name": "Python 3",
   "language": "python",
   "name": "python3"
  },
  "language_info": {
   "codemirror_mode": {
    "name": "ipython",
    "version": 3
   },
   "file_extension": ".py",
   "mimetype": "text/x-python",
   "name": "python",
   "nbconvert_exporter": "python",
   "pygments_lexer": "ipython3",
   "version": "3.6.7"
  },
  "toc": {
   "base_numbering": 1,
   "nav_menu": {
    "height": "161px",
    "width": "201px"
   },
   "number_sections": true,
   "sideBar": true,
   "skip_h1_title": false,
   "title_cell": "Table of Contents",
   "title_sidebar": "Contents",
   "toc_cell": false,
   "toc_position": {},
   "toc_section_display": true,
   "toc_window_display": false
  },
  "varInspector": {
   "cols": {
    "lenName": 16,
    "lenType": 16,
    "lenVar": 40
   },
   "kernels_config": {
    "python": {
     "delete_cmd_postfix": "",
     "delete_cmd_prefix": "del ",
     "library": "var_list.py",
     "varRefreshCmd": "print(var_dic_list())"
    },
    "r": {
     "delete_cmd_postfix": ") ",
     "delete_cmd_prefix": "rm(",
     "library": "var_list.r",
     "varRefreshCmd": "cat(var_dic_list()) "
    }
   },
   "types_to_exclude": [
    "module",
    "function",
    "builtin_function_or_method",
    "instance",
    "_Feature"
   ],
   "window_display": false
  }
 },
 "nbformat": 4,
 "nbformat_minor": 2
}
