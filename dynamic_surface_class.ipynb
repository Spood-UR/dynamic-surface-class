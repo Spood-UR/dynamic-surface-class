{
 "cells": [
  {
   "cell_type": "markdown",
   "metadata": {
    "ExecuteTime": {
     "end_time": "2021-07-16T19:52:51.921364Z",
     "start_time": "2021-07-16T19:52:51.918093Z"
    }
   },
   "source": [
    "# Plan\n",
    "\n",
    "* [x] Learn Git stuff\n",
    "* [x] Create local Git repository at EPOM and repo at GitHub\n",
    "* [x] Refresh memory about Python\n",
    "* [x] Learn MATLAB language at enough level to be able convert the code\n",
    "* [x] Convert `importfileXYZ.m` into Python\n",
    "* [x] Convert `RegGrid3D.m` into Python\n",
    "* [ ] Test RegGrid3D class // [x]  **done by half**\n",
    "* [ ] Create plot and surf_diff methods for RegGrid3D class\n",
    "* [ ] Test\n",
    "* [ ] Test\n",
    "* [ ] Test\n",
    "\n",
    "**Other**\n",
    "* [x] Python paths handling\n",
    "* [x] Linked list concept (in both Python and Matlab)\n",
    "* [ ] Read numpy documentation // [x] **done by 1/10**\n",
    "\n",
    "Python libraries to use:\n",
    "* os and os.path\n",
    "* numpy\n",
    "* Matplotlib.pyplot\n",
    "* Something else\n",
    "\n",
    "### How to update github project:\n",
    "1. cd IDudkov_Internship/dynamic_surface_class/\n",
    "2. git add ./\n",
    "3. git commit -m \"Commit dd.mm.yyyy\"\n",
    "4. git push -u origin main"
   ]
  },
  {
   "cell_type": "code",
   "execution_count": 1,
   "metadata": {
    "ExecuteTime": {
     "end_time": "2021-08-01T22:15:49.495346Z",
     "start_time": "2021-08-01T22:15:49.492608Z"
    }
   },
   "outputs": [],
   "source": [
    "# Turn off scientific notation\n",
    "np.set_printoptions(suppress=True)"
   ]
  },
  {
   "cell_type": "markdown",
   "metadata": {},
   "source": [
    "# Function for searching file paths from given extension"
   ]
  },
  {
   "cell_type": "code",
   "execution_count": 2,
   "metadata": {
    "ExecuteTime": {
     "end_time": "2021-08-01T22:16:43.657404Z",
     "start_time": "2021-08-01T22:16:43.651298Z"
    }
   },
   "outputs": [],
   "source": [
    "# Define a function that searches for files with defined extension \n",
    "# and returns a list of full paths for these files\n",
    "import os\n",
    "\n",
    "def find_file_with_extension(extension, path=os.getcwd()):\n",
    "        # Check the top path existence\n",
    "    if os.path.exists(path):\n",
    "        print(('Searching *%s files in directory:' + path + '\\n') % extension)\n",
    "    else:  # Raise a meaningful error\n",
    "        raise RuntimeError('Path either not exists or not correct ' + path)\n",
    "    \n",
    "    \n",
    "    paths = []\n",
    "    count = 0\n",
    "    for dirpath, dirnames, filenames in os.walk(path):\n",
    "        for filename in filenames:\n",
    "            fextension = os.path.splitext(filename)[1]\n",
    "            if fextension == extension:\n",
    "                paths.append(os.path.abspath(os.path.join(dirpath, filename)))\n",
    "                print(\"%d. %s\" % (count, filename))\n",
    "                count += 1\n",
    "    print(\"\\n\")\n",
    "    return paths\n",
    "\n",
    "# # Test\n",
    "# test_paths = find_file_with_extension('.m')\n",
    "# print(test_paths)"
   ]
  },
  {
   "cell_type": "code",
   "execution_count": 3,
   "metadata": {
    "ExecuteTime": {
     "end_time": "2021-08-01T22:16:44.285442Z",
     "start_time": "2021-08-01T22:16:44.278970Z"
    },
    "scrolled": false
   },
   "outputs": [
    {
     "name": "stdout",
     "output_type": "stream",
     "text": [
      "Searching *.m files in directory:/home/jupyter-idudkov/IDudkov_Internship/dynamic_surface_class\n",
      "\n",
      "0. RegGrid3D.m\n",
      "1. SlopeOld.m\n",
      "2. Slope.m\n",
      "3. Testgrid.m\n",
      "4. importfileXYZ.m\n",
      "5. SlopeExample.m\n",
      "\n",
      "\n"
     ]
    }
   ],
   "source": [
    "test = find_file_with_extension('.m', path=os.getcwd())"
   ]
  },
  {
   "cell_type": "markdown",
   "metadata": {},
   "source": [
    "# Functions for XYZ file reading"
   ]
  },
  {
   "cell_type": "code",
   "execution_count": 4,
   "metadata": {
    "ExecuteTime": {
     "end_time": "2021-08-01T22:16:45.798560Z",
     "start_time": "2021-08-01T22:16:45.780158Z"
    }
   },
   "outputs": [],
   "source": [
    "import os.path\n",
    "import numpy as np\n",
    "\n",
    "# Define a function that read XYZ files \n",
    "# and returns a numpy array\n",
    "\n",
    "# Realization 1. Probably well optimized but it crashes EPOM kernel\n",
    "def read_xyz_file_r1(xyz_filepath, startRow=0, endRow=None, \n",
    "                  header_length=0, separator=' '):\n",
    "            # Check the file existence\n",
    "    if os.path.exists(xyz_filepath):\n",
    "        print(('Reading file: %s\\n') % xyz_filepath)\n",
    "    else:   # Raise a meaningful error\n",
    "        raise RuntimeError('File is not exist or path is not correct')\n",
    "    if endRow != None:\n",
    "        xyz_array = np.genfromtxt(xyz_filepath, delimiter=separator, skip_header=header_length,\n",
    "                                 missing_values=None, max_rows=(endRow-startRow))\n",
    "    else:\n",
    "        xyz_array = np.genfromtxt(xyz_filepath, delimiter=separator, skip_header=header_length,\n",
    "                         missing_values=None, max_rows=endRow)\n",
    "    return xyz_array\n",
    "        \n",
    "    \n",
    "    # Realization 2. Probably, the best realization. \n",
    "    # It takes the least amount of memory and works well, but doesn't have some important features \n",
    "    # It doesn't crashing EPOM kernel\n",
    "def read_xyz_file_r2(xyz_filepath, header_length=0, separator=' '):\n",
    "            # Check the file existence\n",
    "    if os.path.exists(xyz_filepath):\n",
    "        print(('Reading file: %s\\n') % xyz_filepath)\n",
    "    else:   # Raise a meaningful error\n",
    "        raise RuntimeError('File is not exist or path is not correct')\n",
    "        \n",
    "    header = list()\n",
    "    x_list = list()\n",
    "    y_list = list()\n",
    "    z_list = list()\n",
    "    \n",
    "    count = 0\n",
    "    \n",
    "    with open(xyz_filepath, 'r') as xyz_file:\n",
    "        for index, line in enumerate(xyz_file):\n",
    "            if index in range(header_length):\n",
    "                x, y, z = line.split(separator)\n",
    "                header.append(x)\n",
    "                header.append(y)\n",
    "                header.append(z)\n",
    "                \n",
    "                count += 1\n",
    "            else:\n",
    "                x, y, z = line.split(separator)\n",
    "\n",
    "                x_list.append(round(float(x), 3))\n",
    "                y_list.append(round(float(y), 3))\n",
    "                z_list.append(round(float(z), 3))\n",
    "                count += 1\n",
    "    print(\"Number of Rows: %d\" % count)\n",
    "    xyz_array = np.array([x_list, y_list, z_list])\n",
    "    return xyz_array\n",
    "\n",
    "\n",
    "\n",
    "    # Realization 3. The easiest and the most expensive one\n",
    "def read_xyz_file_r3(xyz_filepath, startRow=0, endRow=None, \n",
    "                  header_length=0, separator=' '):\n",
    "            # Check the file existence\n",
    "    if os.path.exists(xyz_filepath):\n",
    "        print(('Reading file: %s\\n') % xyz_filepath)\n",
    "    else:   # Raise a meaningful error\n",
    "        raise RuntimeError('File is not exist or path is not correct')        \n",
    "        # Header reading\n",
    "        for header_line in xyz_file[startRow: startRow+header_length]:\n",
    "            header.append(header_line.split(fseparator))\n",
    "        print(xyz_file)\n",
    "        # Data reading\n",
    "        for xyz_line in xyz_file:\n",
    "            xyz = xyz_line.split(fseparator)\n",
    "            x.append(round(float(xyz[0]), 3))\n",
    "            y.append(round(float(xyz[1]), 3))\n",
    "            z.append(round(float(xyz[2]), 3))\n",
    "            \n",
    "    # Open, read and close the file\n",
    "    xyz_file = open(xyz_filepath, 'r')\n",
    "    xyz_file_content = xyz_file.read()\n",
    "    xyz_file.close\n",
    "    \n",
    "    xyz_lines = xyz_file_content.splitlines()\n",
    "    count = 1\n",
    "    \n",
    "    header = list()\n",
    "    x = list()\n",
    "    y = list()\n",
    "    z = list()\n",
    "    \n",
    "    # Header reading\n",
    "    for header_line in xyz_lines[startRow: startRow+header_length]:\n",
    "        header.append(header_line.split(fseparator))\n",
    "        count += 1\n",
    "    # Data reading\n",
    "    for xyz_line in xyz_lines[startRow+header_length: endRow]:\n",
    "        xyz = xyz_line.split(fseparator)\n",
    "        x.append(round(float(xyz[0]), 3))\n",
    "        y.append(round(float(xyz[1]), 3))\n",
    "        z.append(round(float(xyz[2]), 3))\n",
    "        count += 1\n",
    "    print(\"%d rows were read\" % count)\n",
    "    xyz_array = np.array([x, y, z])\n",
    "    \n",
    "    return header, xyz_array"
   ]
  },
  {
   "cell_type": "code",
   "execution_count": 5,
   "metadata": {
    "ExecuteTime": {
     "end_time": "2021-08-01T22:16:47.792257Z",
     "start_time": "2021-08-01T22:16:47.785004Z"
    }
   },
   "outputs": [
    {
     "name": "stdout",
     "output_type": "stream",
     "text": [
      "Searching *.xyz files in directory:/home/jupyter-idudkov/IDudkov_Internship/dynamic_surface_class\n",
      "\n",
      "0. SH2017_MainSurveyLines_1m_CUBE_NOAA.xyz\n",
      "1. depth.xyz\n",
      "\n",
      "\n",
      "Reading file: /home/jupyter-idudkov/IDudkov_Internship/dynamic_surface_class/f01_data/depth.xyz\n",
      "\n",
      "Number of Rows: 10\n",
      "[[ 367591.5   367612.5   367581.5   367616.5   367598.5   367582.5\n",
      "   367518.5   367619.5   367615.5 ]\n",
      " [4769166.5  4769169.5  4769172.5  4769173.5  4769175.5  4769177.5\n",
      "  4769179.5  4769180.5  4769181.5 ]\n",
      " [    -27.84     -28.25     -27.64     -28.37     -27.95     -27.63\n",
      "      -26.93     -28.23     -28.19]]\n",
      "(3, 9)\n"
     ]
    }
   ],
   "source": [
    "# Test\n",
    "xyz_paths = find_file_with_extension('.xyz')\n",
    "xyz_array = read_xyz_file_r2(xyz_paths[1], separator=',',header_length=1)\n",
    "print(xyz_array)\n",
    "print(np.shape(xyz_array))"
   ]
  },
  {
   "cell_type": "markdown",
   "metadata": {},
   "source": [
    "# Dynamic Surface Class"
   ]
  },
  {
   "cell_type": "code",
   "execution_count": 189,
   "metadata": {
    "ExecuteTime": {
     "end_time": "2021-08-02T01:47:18.077706Z",
     "start_time": "2021-08-02T01:47:18.003872Z"
    }
   },
   "outputs": [],
   "source": [
    "from collections import deque\n",
    "import numpy as np\n",
    "from mpl_toolkits.mplot3d import Axes3D  \n",
    "import matplotlib.pyplot as plt\n",
    "\n",
    "class RegGrid3D:\n",
    "    \"\"\"\n",
    "    Original Matlab Class description:\n",
    "    % This class hold a UNB style weighed grid - it really consists of two\n",
    "    % grids, namely a grid of the sum all of the weights of all the\n",
    "    % contrbutions to the grid cell and a corresponding grid with the sum\n",
    "    % of all the weighed contributions weighed.\n",
    "    \n",
    "    % the big benefit is that you can easily remove and add contributions\n",
    "    % to the grid\n",
    "    % Note that the implicit understanding is that the units in the x and y\n",
    "    % directions are isometric\n",
    "    \n",
    "    % Semme Dijkstra    Nov 23, 2016\n",
    "    \n",
    "    \n",
    "    # Convertion to Python started on July 26, 2021\n",
    "    # Ivan Dudkov\n",
    "    \"\"\"\n",
    "    # Class constructor method\n",
    "    def __init__(self, res, rInfl, rInc=0, rangeX=None, rangeY=None):\n",
    "        print(\"Initialization of the RegGrid3D class\\n\")\n",
    "        \n",
    "        # Properties\n",
    "        self.res = res # Resolution\n",
    "        self.rInfl = np.int64(rInfl) # Radius of influence\n",
    "        if rInc == 0: # ... Radius Increment????\n",
    "            print(\"Warning! rInc = 0\")\n",
    "            \n",
    "        self.rInc = rInc\n",
    "        self.rPix = round(rInfl/res) # Radius of influence in pixel units\n",
    "        \n",
    "        # Check for X,Y range existence\n",
    "        if rangeX != None and rangeY != None:\n",
    "            self.rangeX = rangeX\n",
    "            self.rangeY = rangeY\n",
    "\n",
    "            # Check for correctness of X,Y ranges\n",
    "            if len(rangeX) != 2 or len(rangeY) != 2:\n",
    "                raise RuntimeError(\"Error! Vectors for Y and X range should contain only 2 elements - min and max extent\")\n",
    "\n",
    "            #### Meshgrid Creation ####\n",
    "            print(\"Creating of the meshgrid using range vectors\\n\")\n",
    "\n",
    "            # My first implementation. I'm not sure that it is correct, but should be.\n",
    "            self.X, self.Y = np.meshgrid(np.double(np.linspace(self.rangeX[0], self.rangeX[1], \n",
    "                                            np.uint64(np.rint((np.diff(self.rangeX)[0]+self.res)/self.res)))),\n",
    "                                         np.double(np.linspace(self.rangeY[0], self.rangeY[1],\n",
    "                                            np.uint64(np.rint((np.diff(self.rangeY)[0]+self.res)/self.res)))))\n",
    "            \n",
    "            \n",
    "            print(\"\"\"Meshgrid with X and Y dimensions was created: \n",
    "            X size is %d, Y size is %d.\"\"\" % (np.size(self.X), np.size(self.Y)))\n",
    "\n",
    "            # Make sure that the stored ranges are an exact representarion\n",
    "            # of the meshgrid\n",
    "\n",
    "            if self.X[-1, -1] != self.rangeX[1] and self.Y[-1, -1] != self.rangeY[1]:\n",
    "                raise RuntimeError(\"Error! Meshgrid matrices and X,Y range vectors are not equal!\")\n",
    "\n",
    "\n",
    "            # Now create the weighed grid and the associated grid of weights\n",
    "            self.weighGrid = np.zeros(np.shape(self.X))\n",
    "            self.sumWeight = self.weighGrid\n",
    "        else:\n",
    "            self.rangeX = np.zeros(2)\n",
    "            self.rangeY = np.zeros(2)\n",
    "        \n",
    "        \n",
    "        # Create a distance weighting kernel that weighs by 1/R**2,\n",
    "        # except for R=0, for which the weight = 1\n",
    "        wx, wy = np.meshgrid(np.arange(-self.rPix, self.rPix + 1), \n",
    "                             np.arange(-self.rPix, self.rPix + 1)) \n",
    "        \n",
    "        self.kWeight = 1/(wx**2 + wy **2)\n",
    "        # Deal with the weight at the center i.e., R = 0\n",
    "        self.kWeight[self.rPix, self.rPix] = 1\n",
    "        self.kWeight = np.where(self.kWeight < self.rPix**-2, 0, self.kWeight)\n",
    "\n",
    "    \n",
    "    def Create(self, x, y, z, obsWeight=1):\n",
    "        \n",
    "        # Determine the area of influence in number of pixels,\n",
    "        # assume isometric coordinates\n",
    "        print(z)\n",
    "        # Create arrays that cover the full data extent,\n",
    "        # expanded by the radius of influence in pixel units to\n",
    "        # ensure that the all data can be fully captured in the arrays\n",
    "        self.rangeX = np.zeros(2)\n",
    "        self.rangeY = np.zeros(2)\n",
    "        \n",
    "        self.rangeX[0] = np.amin(x) - self.rPix\n",
    "        self.rangeX[1] = np.amax(x) + self.rPix\n",
    "        self.rangeY[0] = np.amin(y) - self.rPix\n",
    "        self.rangeY[1] = np.amax(y) + self.rPix\n",
    "\n",
    "\n",
    "        # Create a new meshgrid covering the expanded range\n",
    "        print(\"Creating of the meshgrid using range vectors\\n\")\n",
    "        \n",
    "        # My first implementation. I'm not sure that it is correct, but should be.\n",
    "        self.X, self.Y = np.meshgrid(np.double(np.linspace(self.rangeX[0], self.rangeX[1], \n",
    "                                        np.uint64(np.rint((np.diff(self.rangeX)[0]+self.res)/self.res)))),\n",
    "                                     np.double(np.linspace(self.rangeY[0], self.rangeY[1],\n",
    "                                        np.uint64(np.rint((np.diff(self.rangeY)[0]+self.res)/self.res)))))\n",
    "        \n",
    "        # My second implementation. Actually, the same as in Matlab. \n",
    "        # I'm not sure as well, but it gives the same result\n",
    "#         self.X, self.Y = np.meshgrid(np.arange(0, (np.uint64(np.rint(np.diff(self.rangeX)[0]/self.res))) + 1)\n",
    "#                                                 *self.res + self.rangeX[0],\n",
    "#                                      np.arange(0, (np.uint64(np.rint(np.diff(self.rangeY)[0]/self.res))) + 1)\n",
    "#                                                             *self.res + self.rangeY[0])\n",
    "#         self.rangeX[1] = self.X[-1, -1]\n",
    "#         self.rangeY[1] = self.Y[-1, -1]\n",
    "        # Make sure that the stored ranges are an exact representation\n",
    "        # of the meshgrid\n",
    "        print(\"\"\"Meshgrid with X and Y dimensions was created: \n",
    "        X size is %d, Y size is %d.\"\"\" % (np.size(self.X), np.size(self.Y)))\n",
    "\n",
    "        # Make sure that the stored ranges are an exact representarion\n",
    "        # of the meshgrid\n",
    "\n",
    "        if self.X[-1, -1] != self.rangeX[1] and self.Y[-1, -1] != self.rangeY[1]:\n",
    "            raise RuntimeError(\"Error! Meshgrid matrices and X,Y range vectors are not equal!\")        \n",
    "        \n",
    "        # Now create the weighed grid and the associated grid of weights\n",
    "        self.weighGrid = np.zeros(np.shape(self.X))\n",
    "        self.sumWeight = np.zeros(np.shape(self.X))\n",
    "        \n",
    "        # Loop through the data - for now using a for loop\n",
    "        count = 0\n",
    "        for i in range(len(z)):\n",
    "            # Get the location of the data in the grid\n",
    "\n",
    "            xGrid = np.argwhere(x[i] >= self.X[1, :])[-1][0]\n",
    "            yGrid = np.argwhere(y[i] >= self.Y[:, 1])[-1][0]\n",
    "\n",
    "            # Set the location of associated kernel in the grid\n",
    "            k = np.array([[xGrid - self.rPix, xGrid + (self.rPix+1)], \n",
    "                          [yGrid - self.rPix, yGrid + (self.rPix+1)]])\n",
    "            # Add the contribution to both the weighed grid as well as\n",
    "            # the grid of summed weights\n",
    "            self.sumWeight[k[1,0]:k[1,1],k[0,0]:k[0,1]] = self.sumWeight[k[1,0]:k[1,1],k[0,0]:k[0,1]] + \\\n",
    "                                                            obsWeight*self.kWeight\n",
    "            self.weighGrid[k[1,0]:k[1,1],k[0,0]:k[0,1]] = self.weighGrid[k[1,0]:k[1,1],k[0,0]:k[0,1]] + \\\n",
    "                                                            obsWeight*self.kWeight*z[i]\n",
    "            count += 1\n",
    "        print(\"Number of rows read: %d\" % (count + 1))\n",
    "        \n",
    "        \n",
    "        \n",
    "    # Add an array of observations\n",
    "    def Add(self, x=[], y=[], z=[], obsWeight=1):\n",
    "        if not np.array([x, y, z]).any():\n",
    "            return print(\"Nothing has been added, because x or y or z is an empty array\")\n",
    "        \n",
    "        # Make sure that arrays cover the full data extent,\n",
    "        # expanded by the radius of influence in pixel units to\n",
    "        # ensure that all data can be fully captured in the arrays\n",
    "        \n",
    "        if self.rangeX[0] == 0 and self.rangeX[1] == 0:\n",
    "            # There is no data yet - define the dimension of the grid so\n",
    "            # that all data can be held\n",
    "            \n",
    "            self.rangeX[0] = np.amin(x) - self.rPix\n",
    "            self.rangeX[1] = np.amax(x) + self.rPix\n",
    "            self.rangeY[0] = np.amin(y) - self.rPix\n",
    "            self.rangeY[1] = np.amax(y) + self.rPix\n",
    "            \n",
    "            # Create a new meshgrid covering the expanded range\n",
    "            self.X, self.Y = np.meshgrid(np.double(np.linspace(self.rangeX[0], self.rangeX[1], \n",
    "                                            np.uint64(np.rint((np.diff(self.rangeX)[0]+self.res)/self.res)))),\n",
    "                                         np.double(np.linspace(self.rangeY[0], self.rangeY[1],\n",
    "                                            np.uint64(np.rint((np.diff(self.rangeY)[0]+self.res)/self.res)))))\n",
    "            \n",
    "            print(\"\"\"Meshgrid with X and Y dimensions was created: \n",
    "        X size is %d, Y size is %d.\"\"\" % (np.size(self.X), np.size(self.Y)))\n",
    "            \n",
    "            # Make sure that the stored ranges are an exact representation of the meshgird\n",
    "            if self.X[-1, -1] != self.rangeX[1] and self.Y[-1, -1] != self.rangeY[1]:\n",
    "                raise RuntimeError(\"Error! Meshgrid matrices and X,Y range vectors are not equal!\")   \n",
    "            \n",
    "            # Now create the weighed grid and the associated grid of\n",
    "            # weights. Note that we should test for lack of data by 0s in\n",
    "            # the weights, not in the weighed depths; zero is a meaningful\n",
    "            # (and often important) value in grids\n",
    "            \n",
    "            self.weighGrid = np.zeros(np.shape(self.X))\n",
    "            self.sumWeight = self.weighGrid\n",
    "        else:\n",
    "            cMinX = 0\n",
    "            cMaxX = 0\n",
    "            cMinY = 0\n",
    "            cMaxY = 0\n",
    "            # Determine by now how many pixels the grid should be increased\n",
    "            # in each direction\n",
    "            \n",
    "            \n",
    "            # !!!!! Instead of double I use int values for cMinx, cMinY etc,\n",
    "            # because python doesn't understand double values for indices\n",
    "            # indices should be integer!!!! \n",
    "            \n",
    "            if np.amin(x) - self.rPix < self.rangeX[0]:\n",
    "                if not self.rInc:\n",
    "                    cMinX = np.int64(np.ceil((self.rangeX[0] - (np.amin(x) - self.rPix))/self.res))\n",
    "                    \n",
    "                else:\n",
    "                    cMinX = self.rInc\n",
    "                self.rangeX[0] = self.rangeX[0] - cMinX*self.res\n",
    "            \n",
    "            if np.amax(x) + self.rPix > self.rangeX[1]:\n",
    "                if not self.rInc:\n",
    "                    cMaxX = np.int64(np.ceil((np.amax(x) + self.rPix - self.rangeX[1])/self.res))\n",
    "                else:\n",
    "                    cMaxX = self.rInc\n",
    "                self.rangeX[1] = self.rangeX[2] + np.double(cMaxX)*self.res\n",
    "                \n",
    "            if np.amin(y) - self.rPix < self.rangeY[0]:\n",
    "                if not self.rInc:\n",
    "                    cMinY = np.int64(np.ceil((self.rangeY[0] - (np.amin(y) - self.rPix))/self.res))\n",
    "                else:\n",
    "                    cMinY = self.rInc\n",
    "                self.rangeY[0] = self.rangeY[0] - cMinY*self.res\n",
    "            \n",
    "            if np.amax(y) + self.rPix > self.rangeY[1]:\n",
    "                if not self.rInc:\n",
    "                    cMaxY = np.int64(np.ceil((np.amax(y) + self.rPix - self.rangeY[1])/self.res))\n",
    "                else:\n",
    "                    cMaxY = self.rInc\n",
    "                self.rangeY[1] = self.rangeY[1] + cMaxY*self.res\n",
    "            \n",
    "            if cMinX or cMinY or cMaxX or cMaxY:\n",
    "                # Get a copy of existing grid\n",
    "                wg = self.weighGrid\n",
    "                sw = self.sumWeight\n",
    "                \n",
    "                # Create a new meshgrid covering the expanded range\n",
    "                self.X, self.Y = np.meshgrid(np.double(np.linspace(self.rangeX[0], self.rangeX[1], \n",
    "                                                np.uint64(np.rint((np.diff(self.rangeX)[0]+self.res)/self.res)))),\n",
    "                                             np.double(np.linspace(self.rangeY[0], self.rangeY[1],\n",
    "                                                np.uint64(np.rint((np.diff(self.rangeY)[0]+self.res)/self.res)))))\n",
    "                print(\"\"\"Meshgrid with X and Y dimensions was created: \n",
    "                        X size is %d, Y size is %d.\"\"\" % (np.size(self.X), np.size(self.Y)))\n",
    "                # Make sure that the stored ranges are \n",
    "                # an exact representation of the meshgrid\n",
    "                if self.X[-1, -1] != self.rangeX[1] and self.Y[-1, -1] != self.rangeY[1]:\n",
    "                    raise RuntimeError(\"Error! Meshgrid matrices and X,Y range vectors are not equal!\") \n",
    "                \n",
    "                \n",
    "                # Create the new weighed grid and associated sum weights\n",
    "                self.weighGrid = np.zeros(np.shape(self.X))\n",
    "                self.sumWeight = self.weighGrid                \n",
    "                \n",
    "                # Preserve the previously determined values \n",
    "                wg = self.weighGrid[0+cMinY:len(self.weighGrid[0,:])-cMaxY, \n",
    "                                    0+cMinX:len(self.weighGrid[0,:])-cMaxX]\n",
    "                \n",
    "                sw = self.sumWeight[0+cMinY:len(self.sumWeight[0,:])-cMaxY, \n",
    "                                    0+cMinX:len(self.sumWeight[0,:])-cMaxX]\n",
    "                \n",
    "                # Loop through the data - for now using a for loop\n",
    "                count = 0\n",
    "                for i in range(len(z)):\n",
    "                    # Get the location of the data in the grid\n",
    "\n",
    "                    xGrid = np.argwhere(x[i] >= self.X[1, :])[-1][0]\n",
    "                    yGrid = np.argwhere(y[i] >= self.Y[:, 1])[-1][0]\n",
    "\n",
    "                    # Set the location of associated kernel in the grid\n",
    "                    k = np.array([[xGrid - self.rPix, xGrid + (self.rPix+1)], \n",
    "                                  [yGrid - self.rPix, yGrid + (self.rPix+1)]])\n",
    "                    # Add the contribution to both the weighed grid as well as\n",
    "                    # the grid of summed weights\n",
    "                    self.sumWeight[k[1,0]:k[1,1],k[0,0]:k[0,1]] = self.sumWeight[k[1,0]:k[1,1],k[0,0]:k[0,1]] + \\\n",
    "                                                                    obsWeight*self.kWeight\n",
    "\n",
    "                    self.weighGrid[k[1,0]:k[1,1],k[0,0]:k[0,1]] = self.weighGrid[k[1,0]:k[1,1],k[0,0]:k[0,1]] + \\\n",
    "                                                                    obsWeight*self.kWeight*z[i]\n",
    "                    print(z[i])\n",
    "                    count += 1\n",
    "                print(\"Number of rows read: %d\" % (count + 1))\n",
    "                    \n",
    "    \n",
    "    # What does it mean? AofI???\n",
    "    def AofI(self, x, y, bh, h):\n",
    "        # x is Easting\n",
    "        # y is Northing\n",
    "        # bh is depression angle\n",
    "        aoi = None\n",
    "        if not np.array([x, y]).any():\n",
    "            return print(\"X or Y array is empty! Method is not initialized\")\n",
    "        \n",
    "        nS = len(x)\n",
    "        \n",
    "        if len(y) != nS:\n",
    "            raise RuntimeError(\"Error! Vectors for Y and X range don't have same size!\")\n",
    "        \n",
    "        # Determine whether the current location is covered by the grid\n",
    "        \n",
    "        if not self.rangeX[0]:\n",
    "            return print(\"Range X doesn't exists. Method is not initialized\")\n",
    "        else:\n",
    "            if np.array([np.amin(x) <= self.rangeX[0], \n",
    "                         np.amax(x) >= self.rangeX[1],\n",
    "                         np.amin(y) <= self.rangeY[0],\n",
    "                         np.amax(y) >= self.rangeY[1]]).any():\n",
    "                return print(\"X and Y ranges are not correct. They are less than min/max x and y values.\\n \\\n",
    "                Method is not initialized\")\n",
    "        \n",
    "        # Loop through the data - for now using a for loop\n",
    "        for i in range(nS):\n",
    "            \n",
    "            # Get the location of the data in the grid\n",
    "            xGrid = np.argwhere(x[i] >= self.X[1, :])[-1][0]\n",
    "            yGrid = np.argwhere(y[i] >= self.Y[:, 1])[-1][0]            \n",
    "            \n",
    "            # xGrid is now your column, yGrid is your row    \n",
    "            print(\"xGrid: %d\" % xGrid)\n",
    "            print(\"yGrid: %d\" % yGrid)\n",
    "                \n",
    "            # To demonstrate the indexing look at the value from this location\n",
    "            d_two = self.weighGrid[yGrid, xGrid] / self.sumWeight[yGrid, xGrid]\n",
    "            \n",
    "            # Now look at one dimensional indexing of the same grid\n",
    "            \n",
    "            ii = np.unravel_index((yGrid + (xGrid-1)*np.shape(self.X)[0]), np.shape(self.X), 'F')\n",
    "            \n",
    "            d_one = self.weighGrid[ii] / self.sumWeight[ii]\n",
    "            \n",
    "            print(\"Depth using 2d indexing: %.2f\" % d_two)\n",
    "            print(\"Depth using 1d indexing: %.2f\" % d_one)\n",
    "            \n",
    "#                 % So ii is the index of the vertex on the lower left of the\n",
    "#                 % pixel in which the swath intersects the bottom i.e. the\n",
    "#                 % pixels is surrounded by the vertices\n",
    "#                 % LL=(yGrid,xGrid)\n",
    "#                 % LR=(yGrid,xGrid+1)\n",
    "#                 % UL=(yGrid+1,xGrid)\n",
    "#                 % UR=(yGrid+1,xGrid+1?)\n",
    "                \n",
    "#                 % Calculate the direction vector and normalize it, also\n",
    "#                 % offset the heading by 90 degrees            \n",
    "            h = h + np.pi/2\n",
    "            u = np.sqrt(np.array([np.cos(h)**2*(1-np.sin(bh[i])**2), \n",
    "                                  np.sin(h)**2*(1-np.sin(bh[i])**2),\n",
    "                                  np.sin(bh[i])]))\n",
    "                    \n",
    "#                 % Note you have to careful about the signs\n",
    "#                 % I did not check this for you\n",
    "#                 % tan(asin(u(1,3)))*abs(cross distance) should get you\n",
    "#                 % approximately to the depth observed\n",
    "                \n",
    "#                 % etc\n",
    "\n",
    "    def FilterSD(self, size, crit=1, varargin=None):\n",
    "        \n",
    "        if not np.array([size%2, size<1, np.floor(size) != size]).any():\n",
    "            raise RuntimeError(\"Error! Meshgrid matrices and X,Y range vectors are not equal!\")\n",
    "        \n",
    "#             % VERY simple minded approach to get rid of the most significant\n",
    "#             % spikes - note that it does not deal with the edges - update\n",
    "#             % the algorithm to do that - this is very SLOW, but works        \n",
    "        nNan = size**2/2 + 1 # num zeros\n",
    "        size = np.floor(size/2)\n",
    "        \n",
    "        # Create a sizeXsize normalized filter\n",
    "        m, n = np.shape(self.X)\n",
    "        \n",
    "        dtm = self.weighGrid / self.sumWeight\n",
    "        \n",
    "        dtm_m = np.zeros(m, n)\n",
    "        dtm_sd = np.zeros(m, n)\n",
    "        # By default mask all data\n",
    "        \n",
    "        self.mask = np.ones(m*n, 1)\n",
    "        \n",
    "        for i in range(len(np.arange(size+1, m-size+1))):\n",
    "            for j in range(len(np.arange([size+1, n-size+1]))):\n",
    "                r = np.arange(i-size, i+size+1) \n",
    "                c = np.arange(j-size, j+size+1)\n",
    "                k = dtm(r,c)\n",
    "                \n",
    "#             % If there are too many nan's don't bother calculating\n",
    "#             % This has the risk of masking all the borders so allow\n",
    "#             % up to half the numbers+1 to be nan's     \n",
    "                \n",
    "                if np.count_nonzero(k) > nNan:\n",
    "                    self.mask[i+(j-1)*m] = 0 #unmask the data here\n",
    "                    k_nan = k\n",
    "                    k_nan[k_nan==0] = np.nan\n",
    "                    dtm_m[i,j] = np.nanmean(k_nan)\n",
    "                    dtm_sd[i,j] = np.nanstd(k_nan)\n",
    "        \n",
    "        # The mean standard deviation\n",
    "        dtm_sd_nan = dtm_sd\n",
    "        dtm_sd_nan[dtm_sd_nan==0] = np.nan\n",
    "        m_sd = np.nanmean(dtm_sd_nan)\n",
    "        \n",
    "        # Also mask the locations where the standard deviation gets too out\n",
    "        # of hand i.e. the really big isolated spikes\n",
    "        \n",
    "        self.mask = np.logical_or(self.mask, dtm_sd>3*crit*m_sd)\n",
    "            \n",
    "        # Finally, mask the locations where the std is greater than crit times\n",
    "        # the mean standart deviation\n",
    "        \n",
    "        self.mask = np.logical_or(self.mask, np.abs(dtm_m - dtm)>crit*dtm_sd)\n",
    "        \n",
    "        # If we chose to replace values then do it using the mask\n",
    "        if varargin != None:\n",
    "            self.weighGrid[self.mask]=dtm_sd[self.mask]\n",
    "            self.sumWeight = 1\n",
    "            \n",
    "# %         function FilterDiff(obj,dtm,crit)\n",
    "# %             % Filter by a difference with another terrain model\n",
    "# %             % if the difference is too big delete the data\n",
    "# %             % This allows you to easily filter crazy canopy heights\n",
    "# %             \n",
    "# %             [m,n]=size(obj.X);\n",
    "# %             \n",
    "# %             if ~all([m,n]==size(dtm.X))\n",
    "# %                 error('Grids must match in size!')\n",
    "# %             end\n",
    "# %             \n",
    "# %             % Determine the mean difference\n",
    "# %             \n",
    "# %             % Stopped here as the canopy and bottom dtm's are different\n",
    "# %             % sizes - you could calculate the bottom dtm and then the\n",
    "# %             % canopy dtm - I'm not sure how you do the differencing?\n",
    "# %             \n",
    "# %         end\n",
    "    def Plot(self, mask=None, varargin=None):\n",
    "        if varargin != None:\n",
    "            h = varargin\n",
    "#         % This is certainly not the fastest way to plot the data (that\n",
    "#         % would be using the surface functions) but it does allow for\n",
    "#         % easier manipulation of the data - note that adding lighting\n",
    "#         % to this would be nice and slick - this will not be hard to do\n",
    "        exag = 20\n",
    "        \n",
    "        dtm = (self.weighGrid / self.sumWeight)*exag\n",
    "        \n",
    "        if mask != None:\n",
    "            dtm[mask] = np.nan\n",
    "        \n",
    "        fig = plt.figure()\n",
    "        ax = fig.add_subplot(111, projection='3d')\n",
    "\n",
    "        ax.plot_surface(dtm)\n",
    "        ax.set_xlabel(x_label)\n",
    "        ax.set_ylabel(y_label)\n",
    "        ax.set_zlabel(z_label)\n",
    "\n",
    "        plt.show()        \n",
    "            \n",
    "            \n",
    "                \n",
    "                \n",
    "                    \n",
    "            "
   ]
  },
  {
   "cell_type": "code",
   "execution_count": 177,
   "metadata": {
    "ExecuteTime": {
     "end_time": "2021-08-02T01:35:11.211421Z",
     "start_time": "2021-08-02T01:35:11.205501Z"
    }
   },
   "outputs": [],
   "source": [
    "from mpl_toolkits.mplot3d import Axes3D  \n",
    "import matplotlib.pyplot as plt\n",
    "\n",
    "def surface(x, y, z, x_label='X Label', y_label='Y Label', z_label='Z Label'):\n",
    "    fig = plt.figure()\n",
    "    ax = fig.add_subplot(111, projection='3d')\n",
    "\n",
    "    ax.plot_surface(x, y, z)\n",
    "\n",
    "    ax.set_xlabel(x_label)\n",
    "    ax.set_ylabel(y_label)\n",
    "    ax.set_zlabel(z_label)\n",
    "\n",
    "    plt.show()"
   ]
  },
  {
   "cell_type": "code",
   "execution_count": 158,
   "metadata": {
    "ExecuteTime": {
     "end_time": "2021-08-02T01:20:06.962257Z",
     "start_time": "2021-08-02T01:20:06.955524Z"
    }
   },
   "outputs": [
    {
     "name": "stdout",
     "output_type": "stream",
     "text": [
      "Searching *.xyz files in directory:/home/jupyter-idudkov/IDudkov_Internship/dynamic_surface_class\n",
      "\n",
      "0. SH2017_MainSurveyLines_1m_CUBE_NOAA.xyz\n",
      "1. depth.xyz\n",
      "\n",
      "\n",
      "Reading file: /home/jupyter-idudkov/IDudkov_Internship/dynamic_surface_class/f01_data/depth.xyz\n",
      "\n",
      "Number of Rows: 10\n"
     ]
    }
   ],
   "source": [
    "xyz_paths = find_file_with_extension('.xyz')\n",
    "xyz_array = read_xyz_file_r2(xyz_paths[1], separator=',',header_length=1)"
   ]
  },
  {
   "cell_type": "code",
   "execution_count": 159,
   "metadata": {
    "ExecuteTime": {
     "end_time": "2021-08-02T01:20:10.365595Z",
     "start_time": "2021-08-02T01:20:10.136673Z"
    }
   },
   "outputs": [
    {
     "name": "stdout",
     "output_type": "stream",
     "text": [
      "Initialization of the RegGrid3D class\n",
      "\n",
      "Warning! rInc = 0\n",
      "Creating of the meshgrid using range vectors\n",
      "\n",
      "Meshgrid with X and Y dimensions was created: \n",
      "        X size is 2743, Y size is 2743.\n",
      "Number of rows read: 4\n"
     ]
    },
    {
     "name": "stderr",
     "output_type": "stream",
     "text": [
      "/opt/tljh/user/lib/python3.6/site-packages/ipykernel_launcher.py:80: RuntimeWarning: divide by zero encountered in true_divide\n"
     ]
    },
    {
     "data": {
      "image/png": "[encoded data removed]",
      "text/plain": [
       "<Figure size 432x288 with 1 Axes>"
      ]
     },
     "metadata": {
      "needs_background": "light"
     },
     "output_type": "display_data"
    }
   ],
   "source": [
    "b = RegGrid3D(0.5,1)\n",
    "b.Create(xyz_array[0,6:], xyz_array[1,6:], xyz_array[2,6:])\n",
    "dtm = b.weighGrid / b.sumWeight\n",
    "# surface(b.X, b.Y, dtm)\n",
    "b.plot(b.X, b.Y, b.)"
   ]
  },
  {
   "cell_type": "code",
   "execution_count": null,
   "metadata": {
    "ExecuteTime": {
     "end_time": "2021-08-01T04:33:30.038409Z",
     "start_time": "2021-08-01T04:33:29.667293Z"
    }
   },
   "outputs": [],
   "source": [
    "b.Add(xyz_array[0,0:5], xyz_array[1,0:5], xyz_array[2,0:5])\n",
    "surface(b.X, b.Y, b.weighGrid)"
   ]
  },
  {
   "cell_type": "code",
   "execution_count": null,
   "metadata": {
    "ExecuteTime": {
     "end_time": "2021-08-01T04:33:30.767553Z",
     "start_time": "2021-08-01T04:33:30.761353Z"
    }
   },
   "outputs": [],
   "source": [
    "bh = np.deg2rad([10, 20, 30, 40, 50])\n",
    "h = np.deg2rad(170)\n",
    "b.AofI(xyz_array[0,0:5], xyz_array[1,0:5], bh, h)"
   ]
  },
  {
   "cell_type": "code",
   "execution_count": 186,
   "metadata": {
    "ExecuteTime": {
     "end_time": "2021-08-02T01:41:10.708640Z",
     "start_time": "2021-08-02T01:41:10.702928Z"
    }
   },
   "outputs": [
    {
     "name": "stdout",
     "output_type": "stream",
     "text": [
      "Searching *.xyz files in directory:/home/jupyter-idudkov/IDudkov_Internship/dynamic_surface_class\n",
      "\n",
      "0. SH2017_MainSurveyLines_1m_CUBE_NOAA.xyz\n",
      "1. depth.xyz\n",
      "2. depth2.xyz\n",
      "\n",
      "\n"
     ]
    }
   ],
   "source": [
    "xyz_paths = find_file_with_extension('.xyz')"
   ]
  },
  {
   "cell_type": "code",
   "execution_count": 190,
   "metadata": {
    "ExecuteTime": {
     "end_time": "2021-08-02T01:47:24.254443Z",
     "start_time": "2021-08-02T01:47:18.099985Z"
    }
   },
   "outputs": [
    {
     "name": "stdout",
     "output_type": "stream",
     "text": [
      "Reading file: /home/jupyter-idudkov/IDudkov_Internship/dynamic_surface_class/f01_data/depth2.xyz\n",
      "\n",
      "Number of Rows: 128909\n",
      "Initialization of the RegGrid3D class\n",
      "\n",
      "Warning! rInc = 0\n",
      "[-28.   -28.05 -28.15 ... -21.76 -21.75 -21.91]\n",
      "Creating of the meshgrid using range vectors\n",
      "\n",
      "Meshgrid with X and Y dimensions was created: \n",
      "        X size is 303052, Y size is 303052.\n"
     ]
    },
    {
     "name": "stderr",
     "output_type": "stream",
     "text": [
      "/opt/tljh/user/lib/python3.6/site-packages/ipykernel_launcher.py:80: RuntimeWarning: divide by zero encountered in true_divide\n"
     ]
    },
    {
     "name": "stdout",
     "output_type": "stream",
     "text": [
      "Number of rows read: 128909\n"
     ]
    },
    {
     "name": "stderr",
     "output_type": "stream",
     "text": [
      "/opt/tljh/user/lib/python3.6/site-packages/ipykernel_launcher.py:6: RuntimeWarning: invalid value encountered in true_divide\n",
      "  \n",
      "/opt/tljh/user/lib/python3.6/site-packages/ipykernel_launcher.py:11: UserWarning: Z contains NaN values. This may result in rendering artifacts.\n",
      "  # This is added back by InteractiveShellApp.init_path()\n"
     ]
    },
    {
     "data": {
      "image/png": "[encoded data removed]",
      "text/plain": [
       "<Figure size 432x288 with 1 Axes>"
      ]
     },
     "metadata": {
      "needs_background": "light"
     },
     "output_type": "display_data"
    }
   ],
   "source": [
    "xyz_array = read_xyz_file_r2(xyz_paths[2], separator=',',header_length=1)\n",
    "\n",
    "j = RegGrid3D(1,1)\n",
    "\n",
    "j.Create(xyz_array[0,:], xyz_array[1,:], xyz_array[2,:])\n",
    "dtm = j.weighGrid / j.sumWeight\n",
    "\n",
    "fig = plt.figure()\n",
    "ax = fig.add_subplot(111, projection='3d')\n",
    "\n",
    "ax.plot_surface(j.X, j.Y, dtm)\n",
    "\n",
    "plt.show()"
   ]
  },
  {
   "cell_type": "code",
   "execution_count": 181,
   "metadata": {
    "ExecuteTime": {
     "end_time": "2021-08-02T01:36:45.579297Z",
     "start_time": "2021-08-02T01:36:45.152631Z"
    }
   },
   "outputs": [
    {
     "name": "stdout",
     "output_type": "stream",
     "text": [
      "Searching *.xyz files in directory:/home/jupyter-idudkov/IDudkov_Internship/dynamic_surface_class\n",
      "\n",
      "0. SH2017_MainSurveyLines_1m_CUBE_NOAA.xyz\n",
      "1. depth.xyz\n",
      "\n",
      "\n",
      "Reading file: /home/jupyter-idudkov/IDudkov_Internship/dynamic_surface_class/f01_data/depth.xyz\n",
      "\n",
      "Number of Rows: 10\n",
      "Initialization of the RegGrid3D class\n",
      "\n",
      "Warning! rInc = 0\n",
      "[-27.84 -28.25 -27.64 -28.37 -27.95 -27.63 -26.93 -28.23 -28.19]\n",
      "Creating of the meshgrid using range vectors\n",
      "\n",
      "Meshgrid with X and Y dimensions was created: \n",
      "        X size is 1872, Y size is 1872.\n",
      "[[0. 1. 0.]\n",
      " [1. 1. 1.]\n",
      " [0. 1. 0.]]\n",
      "[[  0.   -26.84   0.  ]\n",
      " [-26.84 -26.84 -26.84]\n",
      " [  0.   -26.84   0.  ]]\n",
      "-27.84\n",
      "[[0. 1. 0.]\n",
      " [1. 1. 1.]\n",
      " [0. 1. 0.]]\n",
      "[[  0.   -27.25   0.  ]\n",
      " [-27.25 -27.25 -27.25]\n",
      " [  0.   -27.25   0.  ]]\n",
      "-28.25\n",
      "[[0. 1. 0.]\n",
      " [1. 1. 1.]\n",
      " [0. 1. 0.]]\n",
      "[[  0.   -26.64   0.  ]\n",
      " [-26.64 -26.64 -26.64]\n",
      " [  0.   -26.64   0.  ]]\n",
      "-27.64\n",
      "[[0. 1. 0.]\n",
      " [1. 1. 1.]\n",
      " [0. 1. 0.]]\n",
      "[[  0.   -27.37   0.  ]\n",
      " [-27.37 -27.37 -27.37]\n",
      " [  0.   -27.37   0.  ]]\n",
      "-28.37\n",
      "[[0. 1. 0.]\n",
      " [1. 1. 1.]\n",
      " [0. 1. 0.]]\n",
      "[[  0.   -26.95   0.  ]\n",
      " [-26.95 -26.95 -26.95]\n",
      " [  0.   -26.95   0.  ]]\n",
      "-27.95\n",
      "[[0. 1. 0.]\n",
      " [1. 1. 1.]\n",
      " [0. 1. 0.]]\n",
      "[[  0.   -26.63   0.  ]\n",
      " [-26.63 -26.63 -26.63]\n",
      " [  0.   -26.63   0.  ]]\n",
      "-27.63\n",
      "[[0. 1. 0.]\n",
      " [1. 1. 1.]\n",
      " [0. 1. 0.]]\n",
      "[[  0.   -25.93   0.  ]\n",
      " [-25.93 -25.93 -25.93]\n",
      " [  0.   -25.93   0.  ]]\n",
      "-26.93\n",
      "[[0. 1. 0.]\n",
      " [1. 1. 1.]\n",
      " [0. 1. 0.]]\n",
      "[[  0.   -27.23   0.  ]\n",
      " [-27.23 -27.23 -27.23]\n",
      " [  0.   -27.23   0.  ]]\n",
      "-28.23\n",
      "[[0. 1. 0.]\n",
      " [1. 1. 1.]\n",
      " [0. 1. 0.]]\n",
      "[[  0.   -27.19   0.  ]\n",
      " [-27.19 -27.19 -27.19]\n",
      " [  0.   -27.19   0.  ]]\n",
      "-28.19\n",
      "Number of rows read: 10\n"
     ]
    },
    {
     "name": "stderr",
     "output_type": "stream",
     "text": [
      "/opt/tljh/user/lib/python3.6/site-packages/ipykernel_launcher.py:80: RuntimeWarning: divide by zero encountered in true_divide\n",
      "/opt/tljh/user/lib/python3.6/site-packages/ipykernel_launcher.py:7: RuntimeWarning: invalid value encountered in true_divide\n",
      "  import sys\n"
     ]
    },
    {
     "data": {
      "image/png": "[encoded data removed]",
      "text/plain": [
       "<Figure size 432x288 with 1 Axes>"
      ]
     },
     "metadata": {
      "needs_background": "light"
     },
     "output_type": "display_data"
    }
   ],
   "source": [
    "xyz_paths = find_file_with_extension('.xyz')\n",
    "xyz_array = read_xyz_file_r2(xyz_paths[1], separator=',',header_length=1)\n",
    "\n",
    "j = RegGrid3D(1,1)\n",
    "\n",
    "j.Create(xyz_array[0,:], xyz_array[1,:], xyz_array[2,:])\n",
    "dtm = j.weighGrid / j.sumWeight\n",
    "\n",
    "fig = plt.figure()\n",
    "ax = fig.add_subplot(111, projection='3d')\n",
    "\n",
    "ax.plot_surface(j.X, j.Y, j.sumWeight)\n",
    "# ax.set_xlabel(x_label)\n",
    "# ax.set_ylabel(y_label)\n",
    "# ax.set_zlabel(z_label)\n",
    "\n",
    "plt.show()"
   ]
  },
  {
   "cell_type": "code",
   "execution_count": null,
   "metadata": {
    "ExecuteTime": {
     "end_time": "2021-08-01T04:23:18.730543Z",
     "start_time": "2021-08-01T04:23:18.726557Z"
    }
   },
   "outputs": [],
   "source": [
    "np.size(b.X)"
   ]
  },
  {
   "cell_type": "code",
   "execution_count": null,
   "metadata": {
    "ExecuteTime": {
     "end_time": "2021-07-31T23:18:52.583899Z",
     "start_time": "2021-07-31T23:18:52.577640Z"
    }
   },
   "outputs": [],
   "source": [
    "g = np.empty(2)\n",
    "print(g)"
   ]
  },
  {
   "cell_type": "code",
   "execution_count": null,
   "metadata": {
    "ExecuteTime": {
     "end_time": "2021-08-01T19:58:29.141966Z",
     "start_time": "2021-08-01T19:58:29.137936Z"
    }
   },
   "outputs": [],
   "source": [
    "mina = np.array([[1, 2, 3, 4], [5, 6, 7, 8], [9, 10, 11, 12], [13, 14, 15, 16], [1, 2, 3, 4]])\n"
   ]
  },
  {
   "cell_type": "code",
   "execution_count": null,
   "metadata": {
    "ExecuteTime": {
     "end_time": "2021-08-01T20:38:13.864210Z",
     "start_time": "2021-08-01T20:38:13.861502Z"
    }
   },
   "outputs": [],
   "source": [
    "row, columns = np.shape(mina)"
   ]
  },
  {
   "cell_type": "code",
   "execution_count": 9,
   "metadata": {
    "ExecuteTime": {
     "end_time": "2021-08-01T22:17:05.126547Z",
     "start_time": "2021-08-01T22:17:05.064290Z"
    }
   },
   "outputs": [
    {
     "ename": "TypeError",
     "evalue": "_mean_dispatcher() got an unexpected keyword argument 'where'",
     "output_type": "error",
     "traceback": [
      "\u001b[0;31m---------------------------------------------------------------------------\u001b[0m",
      "\u001b[0;31mTypeError\u001b[0m                                 Traceback (most recent call last)",
      "\u001b[0;32m<ipython-input-9-f85af8d71bc6>\u001b[0m in \u001b[0;36m<module>\u001b[0;34m\u001b[0m\n\u001b[1;32m      1\u001b[0m \u001b[0mb\u001b[0m \u001b[0;34m=\u001b[0m \u001b[0;34m[\u001b[0m\u001b[0;36m0\u001b[0m \u001b[0;34m,\u001b[0m \u001b[0;36m1\u001b[0m\u001b[0;34m,\u001b[0m \u001b[0;36m0\u001b[0m\u001b[0;34m,\u001b[0m \u001b[0;36m3\u001b[0m\u001b[0;34m,\u001b[0m \u001b[0;36m5\u001b[0m\u001b[0;34m]\u001b[0m\u001b[0;34m\u001b[0m\u001b[0;34m\u001b[0m\u001b[0m\n\u001b[0;32m----> 2\u001b[0;31m \u001b[0mprint\u001b[0m\u001b[0;34m(\u001b[0m\u001b[0mnp\u001b[0m\u001b[0;34m.\u001b[0m\u001b[0mmean\u001b[0m\u001b[0;34m(\u001b[0m\u001b[0mb\u001b[0m\u001b[0;34m,\u001b[0m \u001b[0mwhere\u001b[0m\u001b[0;34m=\u001b[0m\u001b[0mnp\u001b[0m\u001b[0;34m.\u001b[0m\u001b[0marray\u001b[0m\u001b[0;34m(\u001b[0m\u001b[0mb\u001b[0m\u001b[0;34m,\u001b[0m \u001b[0mdtype\u001b[0m\u001b[0;34m=\u001b[0m\u001b[0mnp\u001b[0m\u001b[0;34m.\u001b[0m\u001b[0mbool\u001b[0m\u001b[0;34m)\u001b[0m\u001b[0;34m)\u001b[0m\u001b[0;34m)\u001b[0m\u001b[0;34m\u001b[0m\u001b[0;34m\u001b[0m\u001b[0m\n\u001b[0m",
      "\u001b[0;32m<__array_function__ internals>\u001b[0m in \u001b[0;36mmean\u001b[0;34m(*args, **kwargs)\u001b[0m\n",
      "\u001b[0;31mTypeError\u001b[0m: _mean_dispatcher() got an unexpected keyword argument 'where'"
     ]
    }
   ],
   "source": [
    "b = [0 , 1, 0, 3, 5]\n",
    "print(np.mean(b, where=np.array(b, dtype=np.bool)))"
   ]
  },
  {
   "cell_type": "code",
   "execution_count": null,
   "metadata": {
    "ExecuteTime": {
     "end_time": "2021-08-01T22:01:29.464380Z",
     "start_time": "2021-08-01T22:01:29.461379Z"
    }
   },
   "outputs": [],
   "source": [
    "def mult(a, b, c):\n",
    "    return(a*b*c)"
   ]
  },
  {
   "cell_type": "code",
   "execution_count": 76,
   "metadata": {
    "ExecuteTime": {
     "end_time": "2021-08-01T22:50:52.346896Z",
     "start_time": "2021-08-01T22:50:52.343436Z"
    }
   },
   "outputs": [],
   "source": [
    "s = np.array([[0, 3., 4, 5, 0], [0, 1., 0, 2, 0]])"
   ]
  },
  {
   "cell_type": "code",
   "execution_count": 77,
   "metadata": {
    "ExecuteTime": {
     "end_time": "2021-08-01T22:50:52.849296Z",
     "start_time": "2021-08-01T22:50:52.844378Z"
    }
   },
   "outputs": [
    {
     "data": {
      "text/plain": [
       "1.5"
      ]
     },
     "execution_count": 77,
     "metadata": {},
     "output_type": "execute_result"
    }
   ],
   "source": [
    "np.mean(s)"
   ]
  },
  {
   "cell_type": "code",
   "execution_count": 78,
   "metadata": {
    "ExecuteTime": {
     "end_time": "2021-08-01T22:50:53.425403Z",
     "start_time": "2021-08-01T22:50:53.420133Z"
    }
   },
   "outputs": [
    {
     "name": "stdout",
     "output_type": "stream",
     "text": [
      "[1 2 3 1 3]\n"
     ]
    }
   ],
   "source": [
    "b = np.where(s!=0)[1]\n",
    "print(b)"
   ]
  },
  {
   "cell_type": "code",
   "execution_count": 79,
   "metadata": {
    "ExecuteTime": {
     "end_time": "2021-08-01T22:50:53.991569Z",
     "start_time": "2021-08-01T22:50:53.986909Z"
    }
   },
   "outputs": [
    {
     "name": "stdout",
     "output_type": "stream",
     "text": [
      "[[nan  3.  4.  5. nan]\n",
      " [nan  1. nan  2. nan]]\n"
     ]
    }
   ],
   "source": [
    "s[s==0] = np.nan\n",
    "print(s)"
   ]
  },
  {
   "cell_type": "code",
   "execution_count": 80,
   "metadata": {
    "ExecuteTime": {
     "end_time": "2021-08-01T22:50:54.642386Z",
     "start_time": "2021-08-01T22:50:54.636400Z"
    }
   },
   "outputs": [
    {
     "data": {
      "text/plain": [
       "3.0"
      ]
     },
     "execution_count": 80,
     "metadata": {},
     "output_type": "execute_result"
    }
   ],
   "source": [
    "np.nanmean(s)"
   ]
  },
  {
   "cell_type": "code",
   "execution_count": 154,
   "metadata": {
    "ExecuteTime": {
     "end_time": "2021-08-02T01:15:40.623554Z",
     "start_time": "2021-08-02T01:15:40.618509Z"
    }
   },
   "outputs": [
    {
     "name": "stdout",
     "output_type": "stream",
     "text": [
      "Yes\n"
     ]
    }
   ],
   "source": [
    "def ll(a=0):\n",
    "    if a.any():\n",
    "        print(\"Yes\")\n",
    "        \n",
    "ll(mask)"
   ]
  },
  {
   "cell_type": "code",
   "execution_count": 144,
   "metadata": {
    "ExecuteTime": {
     "end_time": "2021-08-02T01:04:52.957323Z",
     "start_time": "2021-08-02T01:04:52.950391Z"
    }
   },
   "outputs": [
    {
     "name": "stdout",
     "output_type": "stream",
     "text": [
      "[[False False  True]\n",
      " [ True  True  True]]\n",
      "\n",
      "First\n",
      "[[1 2 3]\n",
      " [4 5 6]]\n",
      "\n",
      "Second\n",
      "[[7 8 3]\n",
      " [4 5 6]]\n",
      "[[False False  True]\n",
      " [ True  True  True]]\n"
     ]
    }
   ],
   "source": [
    "x = np.array([[1, 2, 3], [4, 5, 6]])\n",
    "y = np.array([[7, 8, 9], [10, 11, 12]])\n",
    "z = np.array([[0, 0, 0],[1, 1, 1]])\n",
    "s = np.array([[0, 0, 1],[1, 1, 1]])\n",
    "mask = np.logical_or(z,s)\n",
    "print(mask)\n",
    "\n",
    "print(\"\\nFirst\")\n",
    "print(x)\n",
    "print('\\nSecond')\n",
    "x[~mask] = y[~mask]\n",
    "print(x)\n",
    "print(mask)"
   ]
  },
  {
   "cell_type": "code",
   "execution_count": 102,
   "metadata": {
    "ExecuteTime": {
     "end_time": "2021-08-01T23:48:59.302877Z",
     "start_time": "2021-08-01T23:48:59.133450Z"
    }
   },
   "outputs": [
    {
     "ename": "NameError",
     "evalue": "name 'n' is not defined",
     "output_type": "error",
     "traceback": [
      "\u001b[0;31m---------------------------------------------------------------------------\u001b[0m",
      "\u001b[0;31mNameError\u001b[0m                                 Traceback (most recent call last)",
      "\u001b[0;32m<ipython-input-102-99f6c75889d2>\u001b[0m in \u001b[0;36m<module>\u001b[0;34m\u001b[0m\n\u001b[1;32m      5\u001b[0m \u001b[0max\u001b[0m \u001b[0;34m=\u001b[0m \u001b[0mfig\u001b[0m\u001b[0;34m.\u001b[0m\u001b[0madd_subplot\u001b[0m\u001b[0;34m(\u001b[0m\u001b[0;36m111\u001b[0m\u001b[0;34m,\u001b[0m \u001b[0mprojection\u001b[0m\u001b[0;34m=\u001b[0m\u001b[0;34m'3d'\u001b[0m\u001b[0;34m)\u001b[0m\u001b[0;34m\u001b[0m\u001b[0;34m\u001b[0m\u001b[0m\n\u001b[1;32m      6\u001b[0m \u001b[0;34m\u001b[0m\u001b[0m\n\u001b[0;32m----> 7\u001b[0;31m \u001b[0max\u001b[0m\u001b[0;34m.\u001b[0m\u001b[0mplot_surface\u001b[0m\u001b[0;34m(\u001b[0m\u001b[0mn\u001b[0m\u001b[0;34m.\u001b[0m\u001b[0mX\u001b[0m\u001b[0;34m,\u001b[0m \u001b[0mn\u001b[0m\u001b[0;34m.\u001b[0m\u001b[0mY\u001b[0m\u001b[0;34m,\u001b[0m \u001b[0mn\u001b[0m\u001b[0;34m.\u001b[0m\u001b[0mweighGrid\u001b[0m\u001b[0;34m)\u001b[0m\u001b[0;34m\u001b[0m\u001b[0;34m\u001b[0m\u001b[0m\n\u001b[0m\u001b[1;32m      8\u001b[0m \u001b[0;34m\u001b[0m\u001b[0m\n\u001b[1;32m      9\u001b[0m \u001b[0max\u001b[0m\u001b[0;34m.\u001b[0m\u001b[0mset_xlabel\u001b[0m\u001b[0;34m(\u001b[0m\u001b[0;34m'X Label'\u001b[0m\u001b[0;34m)\u001b[0m\u001b[0;34m\u001b[0m\u001b[0;34m\u001b[0m\u001b[0m\n",
      "\u001b[0;31mNameError\u001b[0m: name 'n' is not defined"
     ]
    },
    {
     "data": {
      "image/png": "[encoded data removed]",
      "text/plain": [
       "<Figure size 432x288 with 1 Axes>"
      ]
     },
     "metadata": {
      "needs_background": "light"
     },
     "output_type": "display_data"
    }
   ],
   "source": [
    "from mpl_toolkits.mplot3d import Axes3D  \n",
    "import matplotlib.pyplot as plt\n",
    "\n",
    "fig = plt.figure()\n",
    "ax = fig.add_subplot(111, projection='3d')\n",
    "\n",
    "ax.plot_surface(n.X, n.Y, n.weighGrid)\n",
    "\n",
    "ax.set_xlabel('X Label')\n",
    "ax.set_ylabel('Y Label')\n",
    "ax.set_zlabel('Z Label')\n",
    "\n",
    "plt.show()"
   ]
  },
  {
   "cell_type": "code",
   "execution_count": null,
   "metadata": {},
   "outputs": [],
   "source": []
  }
 ],
 "metadata": {
  "kernelspec": {
   "display_name": "Python 3",
   "language": "python",
   "name": "python3"
  },
  "language_info": {
   "codemirror_mode": {
    "name": "ipython",
    "version": 3
   },
   "file_extension": ".py",
   "mimetype": "text/x-python",
   "name": "python",
   "nbconvert_exporter": "python",
   "pygments_lexer": "ipython3",
   "version": "3.6.7"
  },
  "toc": {
   "base_numbering": 1,
   "nav_menu": {
    "height": "161px",
    "width": "201px"
   },
   "number_sections": true,
   "sideBar": true,
   "skip_h1_title": false,
   "title_cell": "Table of Contents",
   "title_sidebar": "Contents",
   "toc_cell": false,
   "toc_position": {},
   "toc_section_display": true,
   "toc_window_display": false
  },
  "varInspector": {
   "cols": {
    "lenName": 16,
    "lenType": 16,
    "lenVar": 40
   },
   "kernels_config": {
    "python": {
     "delete_cmd_postfix": "",
     "delete_cmd_prefix": "del ",
     "library": "var_list.py",
     "varRefreshCmd": "print(var_dic_list())"
    },
    "r": {
     "delete_cmd_postfix": ") ",
     "delete_cmd_prefix": "rm(",
     "library": "var_list.r",
     "varRefreshCmd": "cat(var_dic_list()) "
    }
   },
   "types_to_exclude": [
    "module",
    "function",
    "builtin_function_or_method",
    "instance",
    "_Feature"
   ],
   "window_display": false
  }
 },
 "nbformat": 4,
 "nbformat_minor": 2
}
