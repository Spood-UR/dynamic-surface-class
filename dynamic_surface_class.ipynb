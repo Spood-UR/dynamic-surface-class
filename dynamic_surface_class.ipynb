{
 "cells": [
  {
   "cell_type": "markdown",
   "metadata": {
    "ExecuteTime": {
     "end_time": "2021-07-16T19:52:51.921364Z",
     "start_time": "2021-07-16T19:52:51.918093Z"
    }
   },
   "source": [
    "# Plan\n",
    "\n",
    "* [x] Learn Git stuff\n",
    "* [x] Create local Git repository at EPOM and repo at GitHub\n",
    "* [ ] Refresh memory about Python\n",
    "* [ ] Learn MATLAB language at enough level to be able convert the code\n",
    "* [ ] Convert `RegGrid3D.m` to `reg_grid_3d.py`\n",
    "* [ ] Convert `importfileXYZ.m` to `import_xyz.py`\n",
    "* [ ] Test\n",
    "* [ ] Re-Implement stuff\n",
    "* [ ] Test\n",
    "* [ ] Test\n",
    "* [ ] Test\n",
    "\n",
    "**Other**\n",
    "* [ ] Python paths handling\n",
    "* [ ] Python linked list concept\n",
    "* [ ] Something"
   ]
  },
  {
   "cell_type": "code",
   "execution_count": 6,
   "metadata": {
    "ExecuteTime": {
     "end_time": "2021-07-17T03:18:32.201051Z",
     "start_time": "2021-07-17T03:18:32.193977Z"
    }
   },
   "outputs": [
    {
     "name": "stdout",
     "output_type": "stream",
     "text": [
      "posix.uname_result(sysname='Linux', nodename='epom-00', release='4.15.0-99-generic', version='#100-Ubuntu SMP Wed Apr 22 20:32:56 UTC 2020', machine='x86_64')\n"
     ]
    },
    {
     "data": {
      "text/plain": [
       "'/dev/tty'"
      ]
     },
     "execution_count": 6,
     "metadata": {},
     "output_type": "execute_result"
    }
   ],
   "source": [
    "import os\n",
    "# Import XYZ matrix\n",
    "\n",
    "file = \"./f01_data/SH2017_MainSurveyLines_1m_CUBE_NOAA.xyz\"\n",
    "\n",
    "print(os.uname())\n",
    "os.ctermid()\n",
    "\n"
   ]
  },
  {
   "cell_type": "code",
   "execution_count": null,
   "metadata": {},
   "outputs": [],
   "source": []
  },
  {
   "cell_type": "code",
   "execution_count": null,
   "metadata": {},
   "outputs": [],
   "source": []
  },
  {
   "cell_type": "code",
   "execution_count": null,
   "metadata": {},
   "outputs": [],
   "source": []
  },
  {
   "cell_type": "code",
   "execution_count": null,
   "metadata": {},
   "outputs": [],
   "source": []
  },
  {
   "cell_type": "code",
   "execution_count": null,
   "metadata": {},
   "outputs": [],
   "source": []
  }
 ],
 "metadata": {
  "kernelspec": {
   "display_name": "Python 3",
   "language": "python",
   "name": "python3"
  },
  "language_info": {
   "codemirror_mode": {
    "name": "ipython",
    "version": 3
   },
   "file_extension": ".py",
   "mimetype": "text/x-python",
   "name": "python",
   "nbconvert_exporter": "python",
   "pygments_lexer": "ipython3",
   "version": "3.6.7"
  },
  "toc": {
   "base_numbering": 1,
   "nav_menu": {
    "height": "161px",
    "width": "201px"
   },
   "number_sections": true,
   "sideBar": true,
   "skip_h1_title": false,
   "title_cell": "Table of Contents",
   "title_sidebar": "Contents",
   "toc_cell": false,
   "toc_position": {},
   "toc_section_display": true,
   "toc_window_display": false
  },
  "varInspector": {
   "cols": {
    "lenName": 16,
    "lenType": 16,
    "lenVar": 40
   },
   "kernels_config": {
    "python": {
     "delete_cmd_postfix": "",
     "delete_cmd_prefix": "del ",
     "library": "var_list.py",
     "varRefreshCmd": "print(var_dic_list())"
    },
    "r": {
     "delete_cmd_postfix": ") ",
     "delete_cmd_prefix": "rm(",
     "library": "var_list.r",
     "varRefreshCmd": "cat(var_dic_list()) "
    }
   },
   "types_to_exclude": [
    "module",
    "function",
    "builtin_function_or_method",
    "instance",
    "_Feature"
   ],
   "window_display": false
  }
 },
 "nbformat": 4,
 "nbformat_minor": 2
}
